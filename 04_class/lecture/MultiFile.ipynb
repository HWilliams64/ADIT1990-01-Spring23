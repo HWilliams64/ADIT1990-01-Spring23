{
 "cells": [
  {
   "attachments": {},
   "cell_type": "markdown",
   "metadata": {},
   "source": [
    "# Multi File \n",
    "\n",
    "n this tutorial, we will cover how to create a multi-file application using C++. This will include:\n",
    "\n",
    "* Creating a project directory and multiple files for the application.\n",
    "* Writing the main file that will run the program.\n",
    "* Creating a header file to contain function prototypes.\n",
    "* Writing a source file to contain the implementation of the functions.\n",
    "* Using preprocessor directives `#ifndef` and `#define` to ensure the header file is included only once.\n",
    "* Using the `#include` directive to include the header file in the source files.\n",
    "* Compiling and linking the files together to create an executable program.\n",
    " \n",
    "By the end of the tutorial, you will have a basic understanding of how to create\n",
    "a multi-file application in C++.\n",
    "\n",
    "Full source code can be found in the [multi_file](./multi_file/) directory."
   ]
  },
  {
   "attachments": {},
   "cell_type": "markdown",
   "metadata": {},
   "source": [
    " ## main.cpp\n",
    "This will be the main file that will run the program.\n",
    "\n",
    "```cpp\n",
    "#include <iostream>\n",
    "#include \"add.h\"\n",
    "\n",
    "using namespace std;\n",
    "\n",
    "int main() {\n",
    "    int num1 = 10;\n",
    "    int num2 = 20;\n",
    "    int sum = add(num1, num2);\n",
    "    cout << \"The sum of \" << num1 << \" and \" << num2 << \" is \" << sum << endl;\n",
    "    return 0;\n",
    "}\n",
    "```\n",
    "\n",
    "`#include \"add.h\"` is a preprocessor directive that tells the C++ compiler to\n",
    "include the contents of the \"add.h\" header file in the current source code file. \n",
    "\n",
    "In the example of the multi-file application, the main.cpp file needs to access\n",
    "the function `add()` that is defined in the add.cpp file. Therefore, we declare\n",
    "the function prototype for `add()` in the add.h header file, and then include\n",
    "the header file in the main.cpp file using `#include \"add.h\"`. "
   ]
  },
  {
   "attachments": {},
   "cell_type": "markdown",
   "metadata": {},
   "source": [
    "## add.h \n",
    "\n",
    "This will contain the function prototype for the add function.\n",
    "\n",
    "```cpp\n",
    "#ifndef ADD_H\n",
    "#define ADD_H\n",
    "\n",
    "int add(int num1, int num2);\n",
    "\n",
    "#endif\n",
    "```\n",
    "\n",
    "`#ifndef ADD_H` and `#define ADD_H` are preprocessor directives used in C++\n",
    "header files to ensure that the header file is only included once in the\n",
    "program. \n",
    "\n",
    "When a header file is included in a C++ program, the preprocessor copies the\n",
    "entire contents of the header file and pastes it into the source code file. This\n",
    "can lead to errors if the same header file is included multiple times in the\n",
    "same program, as it can result in duplicate code and redefinition errors. \n",
    "\n",
    "To prevent this, the `#ifndef` directive is used at the beginning of the header\n",
    "file, followed by a unique identifier (in this case, `ADD_H`). This checks if\n",
    "the identifier has already been defined in the program. If it hasn't, the\n",
    "preprocessor defines the identifier using `#define ADD_H`, which ensures that\n",
    "the header file is only included once in the program. Remember to close the\n",
    "if-statement started by the `#ifndef` directive with `#endif`.\n",
    "\n",
    "In short, `#ifndef ADD_H` and `#define ADD_H` are used to prevent multiple\n",
    "inclusions of the same header file in a C++ program, which can cause compilation\n",
    "errors. "
   ]
  },
  {
   "attachments": {},
   "cell_type": "markdown",
   "metadata": {},
   "source": [
    "## add.cpp\n",
    "\n",
    "This file will contain the implementation of the add function.\n",
    "\n",
    "```cpp\n",
    "#include \"add.h\"\n",
    "\n",
    "int add(int num1, int num2) {\n",
    "    return num1 + num2;\n",
    "}\n",
    "```\n",
    "\n",
    "While it is not strictly necessary to add `#include \"add.h\"` in this particular example, it is a good practice to include the header file in the corresponding source file. This ensures that the function prototype and the function implementation match, and also makes your code more readable and easier to maintain."
   ]
  }
 ],
 "metadata": {
  "kernelspec": {
   "display_name": "Python 3",
   "language": "python",
   "name": "python3"
  },
  "language_info": {
   "name": "python",
   "version": "3.8.10 (default, Nov 14 2022, 12:59:47) \n[GCC 9.4.0]"
  },
  "orig_nbformat": 4,
  "vscode": {
   "interpreter": {
    "hash": "e7370f93d1d0cde622a1f8e1c04877d8463912d04d973331ad4851f04de6915a"
   }
  }
 },
 "nbformat": 4,
 "nbformat_minor": 2
}
