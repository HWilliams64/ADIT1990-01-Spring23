{
 "cells": [
  {
   "attachments": {},
   "cell_type": "markdown",
   "metadata": {},
   "source": [
    "# Pointers\n",
    "\n",
    "In this notebook we learned about pointers in C++:\n",
    "\n",
    "* A pointer is a variable that stores the memory address of another variable\n",
    "* Pointers can be used to indirectly access the value stored in another variable by manipulating the memory address\n",
    "* Pointers are declared using the `*` symbol followed by the name of the pointer variable\n",
    "* Dereferencing a pointer means accessing the value stored at the memory address pointed to by the pointer variable, and is done using the `*` operator\n",
    "* The `&` symbol is used to get the memory address of a variable or to declare a reference variable\n",
    "* Pointers are commonly used for dynamic memory allocation, passing values to functions by reference, and creating data structures like linked lists and trees."
   ]
  },
  {
   "cell_type": "code",
   "execution_count": 1,
   "metadata": {
    "vscode": {
     "languageId": "cpp"
    }
   },
   "outputs": [],
   "source": [
    "#include <iostream>\n",
    "using namespace std;"
   ]
  },
  {
   "attachments": {},
   "cell_type": "markdown",
   "metadata": {},
   "source": [
    "## What is a pointer?\n",
    "\n",
    "A pointer is a variable that stores the memory address of another variable. In\n",
    "other words, it \"points\" to a location in memory where a value is stored.  \n",
    "\n",
    "Using pointers, we can indirectly access the value stored in another variable by\n",
    "manipulating the memory address. This can be useful for a variety of purposes,\n",
    "such as dynamically allocating memory, passing values to functions by reference,\n",
    "and creating data structures like linked lists and trees.  \n",
    "\n",
    "In C++, pointers are declared using the `*` symbol followed by the name of the\n",
    "pointer variable. For example, `int *ptr` declares a pointer variable named\n",
    "`ptr` that can point to an integer value. "
   ]
  },
  {
   "attachments": {},
   "cell_type": "markdown",
   "metadata": {},
   "source": [
    "## Declaring a pointer\n",
    "\n",
    "This program declares an integer variable `x`, a pointer variable `ptr`, and\n",
    "assigns the memory address of `x` to `ptr`. It then prints out the value of `x`,\n",
    "and the value of `ptr`.\n",
    "\n",
    "### What does `*` mean?\n",
    "\n",
    "In a variable declaration, the `*` symbol is used to declare a pointer variable.\n",
    "For example, `int *ptr` declares a pointer variable named `ptr` that can point\n",
    "to an integer value.\n",
    "\n",
    "### What does `&` mean?\n",
    "\n",
    "The `&` symbol is used to get the memory address of a variable. For example,\n",
    "`&x` returns the memory address of the `x` variable."
   ]
  },
  {
   "cell_type": "code",
   "execution_count": 2,
   "metadata": {
    "vscode": {
     "languageId": "cpp"
    }
   },
   "outputs": [
    {
     "name": "stdout",
     "output_type": "stream",
     "text": [
      "The value of x is: 5\n",
      "The memory address ptr is pointing at is: 0x7fafbc8d3030\n"
     ]
    }
   ],
   "source": [
    "int x = 5; // declare an integer variable\n",
    "\n",
    "int *ptr; // declare a pointer variable\n",
    "\n",
    "ptr = &x; // store the memory address of x in ptr\n",
    "\n",
    "cout << \"The value of x is: \" << x << endl;\n",
    "\n",
    "cout << \"The memory address ptr is pointing at is: \" << ptr << endl;"
   ]
  },
  {
   "attachments": {},
   "cell_type": "markdown",
   "metadata": {},
   "source": [
    "## Dereferencing a pointer\n",
    "\n",
    "Dereferencing a pointer means accessing the value stored at the memory address\n",
    "pointed to by a pointer variable. In other words, it is the process of following\n",
    "the pointer to the location in memory where the value is stored and retrieving\n",
    "that value.  \n",
    "\n",
    "To dereference a pointer, we use the `*` operator followed by the name of the\n",
    "pointer variable. For example, if `ptr` is a pointer variable pointing to an\n",
    "integer value, `*ptr` returns the integer value stored at the memory address\n",
    "pointed to by `ptr`.  \n"
   ]
  },
  {
   "cell_type": "code",
   "execution_count": 3,
   "metadata": {
    "vscode": {
     "languageId": "cpp"
    }
   },
   "outputs": [
    {
     "name": "stdout",
     "output_type": "stream",
     "text": [
      "The memory address ptr is pointing at is: 0x7fafbc8d3030\n",
      "The value stored at the memory address of ptr is: 5\n"
     ]
    }
   ],
   "source": [
    "cout << \"The memory address ptr is pointing at is: \" << ptr << endl;\n",
    "\n",
    "cout << \"The value stored at the memory address of ptr is: \" << *ptr << endl;"
   ]
  },
  {
   "attachments": {},
   "cell_type": "markdown",
   "metadata": {},
   "source": [
    "## Change values using pointers\n",
    "\n",
    "To change the value a point references we must dereference the value then assign\n",
    "it a new value.\n",
    "\n",
    "In the example below `ptr` is a pointer variable that points to an integer\n",
    "value, this statement assigns the value `10` to the memory location pointed to\n",
    "by `ptr`. In other words, it changes the value of the variable that `ptr` points\n",
    "to. \n",
    "\n",
    "Notice how the value of `x` changes but the memory address of `x` does not change."
   ]
  },
  {
   "cell_type": "code",
   "execution_count": 5,
   "metadata": {
    "vscode": {
     "languageId": "cpp"
    }
   },
   "outputs": [
    {
     "name": "stdout",
     "output_type": "stream",
     "text": [
      "The value of x is: 10\n",
      "The value stored at the memory address of ptr is: 10\n",
      "The memory address ptr is pointing at is: 0x7fafbc8d3030\n"
     ]
    }
   ],
   "source": [
    "*ptr = 10;     // set the value of x to 10 through the pointer \n",
    "\n",
    "cout << \"The value of x is: \" << x << endl;\n",
    "\n",
    "cout << \"The value stored at the memory address of ptr is: \" << *ptr << endl;\n",
    "\n",
    "cout << \"The memory address ptr is pointing at is: \" << ptr << endl;"
   ]
  }
 ],
 "metadata": {
  "kernelspec": {
   "display_name": "C++17",
   "language": "C++17",
   "name": "xcpp17"
  },
  "language_info": {
   "codemirror_mode": "text/x-c++src",
   "file_extension": ".cpp",
   "mimetype": "text/x-c++src",
   "name": "c++",
   "version": "17"
  },
  "orig_nbformat": 4,
  "vscode": {
   "interpreter": {
    "hash": "e7370f93d1d0cde622a1f8e1c04877d8463912d04d973331ad4851f04de6915a"
   }
  }
 },
 "nbformat": 4,
 "nbformat_minor": 2
}
