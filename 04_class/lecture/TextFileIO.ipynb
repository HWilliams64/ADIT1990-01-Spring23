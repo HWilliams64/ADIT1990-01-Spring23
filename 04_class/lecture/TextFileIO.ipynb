{
 "cells": [
  {
   "attachments": {},
   "cell_type": "markdown",
   "metadata": {},
   "source": [
    "# Text File IO\n",
    "\n",
    "In this session, we will learn how to read and write text to a file in C++. We will cover the basics of file streams, including how to open and close files, how to write data to a file using the `<<` operator, and how to read data from a file using the `getline()` function. We will also explore different file modes, such as write mode, append mode, and read mode, and how they can be used to perform different types of operations on a text file. By the end of this session, you will have a solid understanding of how to work with text files in C++ and be able to create your own applications that read and write data to files."
   ]
  },
  {
   "cell_type": "code",
   "execution_count": null,
   "metadata": {
    "slideshow": {
     "slide_type": "skip"
    },
    "vscode": {
     "languageId": "cpp"
    }
   },
   "outputs": [],
   "source": [
    "#include <iostream>\n",
    "#include <fstream>\n",
    "\n",
    "using namespace std;"
   ]
  },
  {
   "attachments": {},
   "cell_type": "markdown",
   "metadata": {
    "slideshow": {
     "slide_type": "slide"
    }
   },
   "source": [
    "## Writing to a file\n",
    "\n",
    "In this example, we first open a file called \"example.txt\" for writing using `std::ofstream`. We then write the string \"Hello, world!\" to the file using the stream insertion operator (`<<`), and end the line with `std::endl`. Finally, we close the file using the `close()` method."
   ]
  },
  {
   "cell_type": "code",
   "execution_count": null,
   "metadata": {
    "slideshow": {
     "slide_type": "fragment"
    },
    "vscode": {
     "languageId": "cpp"
    }
   },
   "outputs": [],
   "source": [
    "// Writing to a file\n",
    "ofstream outfile(\"example.txt\");\n",
    "outfile << \"The dog jumped over the bridge\" << endl;\n",
    "outfile.close();\n"
   ]
  },
  {
   "attachments": {},
   "cell_type": "markdown",
   "metadata": {
    "slideshow": {
     "slide_type": "slide"
    }
   },
   "source": [
    "## Reading from a file\n",
    "\n",
    "Next, we open the same file for reading using `std::ifstream`, and read each line of the file using `std::getline()`. We then print each line to the console using `std::cout`. Finally, we close the file using the `close()` method."
   ]
  },
  {
   "cell_type": "code",
   "execution_count": null,
   "metadata": {
    "slideshow": {
     "slide_type": "fragment"
    },
    "vscode": {
     "languageId": "cpp"
    }
   },
   "outputs": [],
   "source": [
    "// Reading from a file\n",
    "ifstream infile(\"example.txt\");\n",
    "string line;\n",
    "while (getline(infile, line)) {\n",
    "    cout << line << endl;\n",
    "}\n",
    "infile.close();"
   ]
  },
  {
   "attachments": {},
   "cell_type": "markdown",
   "metadata": {},
   "source": [
    "## Note taking example\n",
    "\n",
    "Below is an example of a note taking application. \n",
    "\n",
    "The program prompts the user to enter the name of the file to save notes. It\n",
    "then creates an output file stream using the entered filename.  \n",
    "\n",
    "The program then prompts the user to enter their note. The program will continue\n",
    "to prompt the user for notes until the user enters \"EXIT\". Each note is written\n",
    "to the output file stream using the `<<` operator, followed by a newline\n",
    "character (`endl`). \n",
    "\n",
    "Once the user is done entering notes, the output file stream is closed using the\n",
    "`close()` function. If the file was opened successfully, the notes will be saved\n",
    "to the file specified by the user. "
   ]
  },
  {
   "cell_type": "code",
   "execution_count": null,
   "metadata": {
    "vscode": {
     "languageId": "cpp"
    }
   },
   "outputs": [],
   "source": [
    "string filename, note;\n",
    "cout << \"Enter the name of the file to save notes: \";\n",
    "getline(cin, filename)\n",
    "\n",
    "ofstream outfile(filename);\n",
    "\n",
    "if (outfile.is_open()) {\n",
    "    cout << \"Enter your note (type EXIT to quit):\\n\";\n",
    "    while (getline(cin, note)) {\n",
    "        if (note == \"EXIT\") {\n",
    "            break;\n",
    "        }\n",
    "        outfile << note << endl;\n",
    "        cout << \"Note saved!\\n\";\n",
    "    }\n",
    "    outfile.close();\n",
    "} else {\n",
    "    cout << \"Unable to open file.\\n\";\n",
    "}\n"
   ]
  },
  {
   "attachments": {},
   "cell_type": "markdown",
   "metadata": {},
   "source": [
    "## Appending text to a file\n",
    "\n",
    "You might have noticed if you run the note taking application multiple times on\n",
    "the same file the nots are over written. This is because the file stream is\n",
    "opened in write mode. \n",
    "\n",
    "Can assure new text is append to the file instead of overwritten by open the\n",
    "file stream in append mode. We open the same file in append mode by calling\n",
    "`open()` with the `ios::app` flag. This allows us to append new data to the end\n",
    "of the file, rather than overwriting its contents. We then append the new string\n",
    "to the file using the `<<` operator, followed by `endl`, and close the file.\n"
   ]
  },
  {
   "cell_type": "code",
   "execution_count": null,
   "metadata": {
    "vscode": {
     "languageId": "cpp"
    }
   },
   "outputs": [],
   "source": [
    "ofstream outfile(\"example.txt\", ios::app);\n",
    "outfile << \"The cat relaxed on the couch when no one is watching.\" << endl;\n",
    "outfile.close();"
   ]
  }
 ],
 "metadata": {
  "kernelspec": {
   "display_name": "C++17",
   "language": "C++17",
   "name": "xcpp17"
  },
  "language_info": {
   "codemirror_mode": "text/x-c++src",
   "file_extension": ".cpp",
   "mimetype": "text/x-c++src",
   "name": "c++",
   "version": "17"
  },
  "orig_nbformat": 4
 },
 "nbformat": 4,
 "nbformat_minor": 2
}
