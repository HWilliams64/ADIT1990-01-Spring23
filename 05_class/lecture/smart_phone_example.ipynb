{
 "cells": [
  {
   "attachments": {},
   "cell_type": "markdown",
   "metadata": {},
   "source": [
    "# Cell Phone example\n",
    "\n",
    "**Characteristics:**\n",
    "\n",
    "`string shape`\n",
    "`string color`\n",
    "`float height`\n",
    "`float width`\n",
    "`string model`\n",
    "`string make`\n",
    "`vector<string> apps`\n",
    "`PhonePlan plan`\n",
    "\n",
    "**Functionality**\n",
    "\n",
    "`camera`\n",
    "`call`\n",
    "`text`\n",
    "`internet`\n",
    "\n",
    "\n",
    "See the [example.cpp](05_class/inclass/example.cpp) file for the code implementation"
   ]
  }
 ],
 "metadata": {
  "kernelspec": {
   "display_name": "C++17",
   "language": "C++17",
   "name": "xcpp17"
  },
  "language_info": {
   "codemirror_mode": "text/x-c++src",
   "file_extension": ".cpp",
   "mimetype": "text/x-c++src",
   "name": "c++",
   "version": "17"
  },
  "orig_nbformat": 4
 },
 "nbformat": 4,
 "nbformat_minor": 2
}
