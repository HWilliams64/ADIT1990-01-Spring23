{
 "cells": [
  {
   "attachments": {},
   "cell_type": "markdown",
   "metadata": {},
   "source": [
    "# Structs\n",
    "\n",
    "In C++, a struct is a composite data type that groups together variables of\n",
    "different data types under a single name. It can be used to group related\n",
    "variables, define data structures, and pass multiple arguments to a function. It\n",
    "helps simplify code and make it more organized.\n",
    "\n"
   ]
  },
  {
   "cell_type": "code",
   "execution_count": 1,
   "metadata": {
    "vscode": {
     "languageId": "cpp"
    }
   },
   "outputs": [],
   "source": [
    "#include <iostream>\n",
    "using namespace std;\n",
    "\n",
    "struct Person {\n",
    "    string name;\n",
    "    int age;\n",
    "    float height;\n",
    "};"
   ]
  },
  {
   "attachments": {},
   "cell_type": "markdown",
   "metadata": {},
   "source": [
    "The code defines a struct in C++ called `Person`. The `Person` struct has three member variables: a `string` variable called `name` to store the name of the person, an `int` variable called age to store the `age` of the person, and a `float` variable called height to store the `height` of the person.\n",
    "\n",
    "This struct can be used to group related information about a person into a single entity, making it easier to work with the data in a program. For example, you could create an instance of the Person struct for each person in a database and store their name, age, and height in the struct's member variables. Then you could access this information easily by using the dot notation to access the member variables, like `person1.name` or `person2.age`."
   ]
  },
  {
   "cell_type": "code",
   "execution_count": 2,
   "metadata": {
    "vscode": {
     "languageId": "cpp"
    }
   },
   "outputs": [
    {
     "name": "stdout",
     "output_type": "stream",
     "text": [
      "Name: LeBron James\n",
      "Age: 38\n",
      "Height: 2.06 meters\n"
     ]
    }
   ],
   "source": [
    "Person lebron;\n",
    "\n",
    "lebron.name = \"LeBron James\";\n",
    "lebron.age = 38;\n",
    "lebron.height = 2.06;\n",
    "\n",
    "cout << \"Name: \" << lebron.name << endl;\n",
    "cout << \"Age: \" << lebron.age << endl;\n",
    "cout << \"Height: \" << lebron.height << \" meters\" << endl;"
   ]
  },
  {
   "attachments": {},
   "cell_type": "markdown",
   "metadata": {},
   "source": [
    "The code above is creating a struct called \"Person\" and then declaring a\n",
    "variable of that type named \"lebron\". \n",
    "\n",
    "``` cpp\n",
    "Person lebron;\n",
    "```\n",
    "\n",
    "The \"lebron\" variable is then being given values for its \"name\", \"age\", and\n",
    "\"height\" properties. \n",
    "\n",
    "```cpp\n",
    "lebron.name = \"LeBron James\";\n",
    "lebron.age = 38;\n",
    "lebron.height = 2.06;\n",
    "```\n",
    "\n",
    "Finally, the program is printing out these values using the \"cout\" function. The\n",
    "output will display the values for the name, age, and height of the person named\n",
    "\"LeBron James\". \n",
    "\n",
    "```cpp\n",
    "cout << \"Name: \" << lebron.name << endl;\n",
    "cout << \"Age: \" << lebron.age << endl;\n",
    "cout << \"Height: \" << lebron.height << \" meters\" << endl;\n",
    "```"
   ]
  },
  {
   "attachments": {},
   "cell_type": "markdown",
   "metadata": {},
   "source": [
    "## Access Modifiers\n",
    "\n",
    "In C++, structs have three access modifiers: public, protected, and private. \n",
    "\n",
    "*Note: If you are coming from a C background, this is different because C struts do\n",
    "not have access modifiers*\n",
    "\n",
    "- **Public** members are accessible to all functions and other structures in the\n",
    "program. They can be accessed both inside and outside the structure. \n",
    "\n",
    "- **Protected** members are accessible to the structure's member functions and to any\n",
    "derived classes. They cannot be accessed by functions outside the structure or\n",
    "by unrelated classes. \n",
    "\n",
    "- **Private** members are accessible only to the structure's member functions. They\n",
    "cannot be accessed by functions outside the structure or by derived classes. \n",
    "\n",
    "By default, the access modifier for struct members is public. However, you can\n",
    "specify the access modifier for each member explicitly using the keywords\n",
    "public, protected, or private followed by a colon. \n",
    "\n",
    "Because the default access modifier for struct members is public we can use the\n",
    "dot operater to access and define the member values like this: \n",
    "\n",
    "```cpp\n",
    "lebron.name = \"LeBron James\";\n",
    "\n",
    "cout << \"Name: \" << lebron.name << endl;\n",
    "```\n",
    "\n",
    "When we make the members protected or private we wont be able to freely access\n",
    "the members like we have in the example above. In this class we will explore\n",
    "private and public access modifiers."
   ]
  },
  {
   "attachments": {},
   "cell_type": "markdown",
   "metadata": {},
   "source": [
    "### Private\n",
    "\n",
    "To define private members in this struct, you can add the keyword `private:`\n",
    "before the private members you want to define. Here's an example:\n",
    "\n",
    "```cpp\n",
    "struct PrivatePerson {\n",
    "\n",
    "    private:\n",
    "        string address;\n",
    "    public:\n",
    "        ...\n",
    "```\n",
    "\n",
    "In this example, the member `address` is private and can only be accessed by\n",
    "member functions of the struct. The other members `name`, `age`, and `height`\n",
    "are public and can be accessed by functions outside the struct. Below is the\n",
    "complete code\n"
   ]
  },
  {
   "cell_type": "code",
   "execution_count": 3,
   "metadata": {
    "vscode": {
     "languageId": "cpp"
    }
   },
   "outputs": [],
   "source": [
    "struct PrivatePerson {\n",
    "\n",
    "    private:\n",
    "        string address;\n",
    "\n",
    "    public:\n",
    "        string name;\n",
    "        int age;\n",
    "        float height;\n",
    "};"
   ]
  },
  {
   "attachments": {},
   "cell_type": "markdown",
   "metadata": {},
   "source": [
    "We have a problem since the `address` is private we can no longer assign it nor\n",
    "access it. In other words we cannot do:\n",
    "\n",
    "```cpp \n",
    "PrivatePerson lebron;\n",
    "\n",
    "lebron.address = \"140 Commonwealth Ave, Chestnut Hill, MA 02467\";\n",
    "\n",
    "cout << \"Name: \" << lebron.address << endl;\n",
    "```\n",
    "\n",
    "This will not work because the `address` member is private and only the code\n",
    "within the struct can access it. "
   ]
  },
  {
   "attachments": {},
   "cell_type": "markdown",
   "metadata": {},
   "source": [
    "## Functionality\n",
    "\n",
    "Since private members are not accessible outside the struct, you cannot assign them directly from outside the struct. However, you can define public member functions in the struct that can access and modify the private members.\n"
   ]
  },
  {
   "cell_type": "code",
   "execution_count": 4,
   "metadata": {
    "vscode": {
     "languageId": "cpp"
    }
   },
   "outputs": [],
   "source": [
    "struct FunctionalPerson {\n",
    "    private:\n",
    "        string address;\n",
    "    public:\n",
    "        string name;\n",
    "        int age;\n",
    "        float height;\n",
    "\n",
    "        void move(string newAddress) {\n",
    "            if(newAddress.length() > 0){\n",
    "                address = newAddress;\n",
    "            }\n",
    "        }\n",
    "\n",
    "        string getAddress(bool isFriend) {\n",
    "            if(isFriend)\n",
    "                return address;\n",
    "            else:\n",
    "                return \"Go away\"\n",
    "        }\n",
    "};"
   ]
  },
  {
   "attachments": {},
   "cell_type": "markdown",
   "metadata": {},
   "source": [
    "In this example, we have defined a private member `address` and a public member\n",
    "function `move` that can modify the `address` member. To assign a value to the\n",
    "private member, you can call the public member `move()` function like this:"
   ]
  },
  {
   "cell_type": "code",
   "execution_count": 5,
   "metadata": {
    "vscode": {
     "languageId": "cpp"
    }
   },
   "outputs": [
    {
     "name": "stdout",
     "output_type": "stream",
     "text": [
      "Name: LeBron James\n",
      "Age: 38\n",
      "Height: 2.06 meters\n",
      "LeBron James lives at 140 Commonwealth Ave, Chestnut Hill, MA 02467\n"
     ]
    }
   ],
   "source": [
    "FunctionalPerson lebron;\n",
    "\n",
    "lebron.name = \"LeBron James\";\n",
    "lebron.age = 38;\n",
    "lebron.height = 2.06;\n",
    "lebron.move(\"140 Commonwealth Ave, Chestnut Hill, MA 02467\");\n",
    "\n",
    "cout << \"Name: \" << lebron.name << endl;\n",
    "cout << \"Age: \" << lebron.age << endl;\n",
    "cout << \"Height: \" << lebron.height << \" meters\" << endl;\n",
    "cout << lebron.name << \" lives at \" << lebron.getAddress(true) << endl;"
   ]
  },
  {
   "attachments": {},
   "cell_type": "markdown",
   "metadata": {},
   "source": [
    "Declaring functions as private can be useful in cases where you want to\n",
    "encapsulate certain functionality or implementation details within the struct,\n",
    "without exposing them to the outside world. This can help to keep your code\n",
    "organized, modular, and maintainable. \n",
    "\n",
    "In addition, declaring member variables as private can provide data\n",
    "encapsulation, which helps to prevent unintended modification of the data by\n",
    "external code. By making member variables private and providing public member\n",
    "functions to access and modify them, you can control how the data is accessed\n",
    "and modified by other parts of the program, which can help to prevent bugs and\n",
    "improve the stability and reliability of your code. "
   ]
  },
  {
   "attachments": {},
   "cell_type": "markdown",
   "metadata": {},
   "source": [
    "## Constrictors\n",
    "\n",
    "In C++, a constructor is a special member function that is called when an object\n",
    "of a struct (or class) is created. The purpose of the constructor is to\n",
    "initialize the member variables of the object to some initial values, and to\n",
    "perform any other initialization tasks that are necessary. \n",
    "\n",
    "The constructor has the same name as the struct (or class) and no return type.\n",
    "It can be declared as either public or private, depending on whether you want to\n",
    "allow external code to create instances of the struct (or class) directly, or\n",
    "whether you want to restrict instantiation to certain member functions or friend\n",
    "functions. \n",
    "\n",
    "Let's take a look at an example:\n",
    "\n",
    "```cpp\n",
    "Person() {\n",
    "    name = \"Forrest Gump\";\n",
    "    age = 38;\n",
    "    height = 1.88;\n",
    "}\n",
    "```\n",
    "\n",
    "Above is an example of a constructor then when used would create a Person with\n",
    "the fixed values. Usually, you would't do this. Often you'd allow the user of\n",
    "your struct to define their own arguments."
   ]
  },
  {
   "attachments": {},
   "cell_type": "markdown",
   "metadata": {},
   "source": [
    "### Contractors with arguments\n",
    "\n",
    "We can make a constructor that enables used to define their own arguments like this:\n",
    "\n",
    "```cpp\n",
    "Person(string name, int age, float height) {\n",
    "    this->name = name;\n",
    "    this->age = age;\n",
    "    this->height = height;\n",
    "}\n",
    "```\n",
    "\n",
    "This code defines a constructor for a `Person` struct in C++. The constructor takes three parameters: a `string` `name`, an `int` `age`, and a `float` `height`.\n",
    "\n",
    "Inside the constructor, the `this` pointer is used to set the values of the `name`, `age`, and `height` member variables of the current object. The `this` pointer is a special pointer that points to the current object, and is used here to distinguish between the local function parameters and the member variables with the same names.\n",
    "\n",
    "So, when a new `Person` object is created with this constructor, the `name`,\n",
    "`,age`, and `height` member variables of that object are set to the values passed\n",
    "as arguments to the constructor.\n",
    "\n",
    "Below we put it all together:"
   ]
  },
  {
   "cell_type": "code",
   "execution_count": 6,
   "metadata": {
    "vscode": {
     "languageId": "cpp"
    }
   },
   "outputs": [
    {
     "name": "stdout",
     "output_type": "stream",
     "text": [
      "=== Empty Constructor ===\n",
      "Name: Forrest Gump\n",
      "Age: 38\n",
      "Height: 1.88 meters\n",
      "=== Parameterized Constructor ===\n",
      "Name: Wonder Woman\n",
      "Age: 5000\n",
      "Height: 4.5212 meters\n"
     ]
    }
   ],
   "source": [
    "struct CompletePerson {\n",
    "    private:\n",
    "        string address;\n",
    "    public:\n",
    "        string name;\n",
    "        int age;\n",
    "        float height;\n",
    "\n",
    "        void move(string newAddress) {\n",
    "            address = newAddress;\n",
    "        }\n",
    "\n",
    "        string getAddress() {\n",
    "            return address;\n",
    "        }\n",
    "\n",
    "        CompletePerson() {\n",
    "            name = \"Forrest Gump\";\n",
    "            age = 38;\n",
    "            height = 1.88;\n",
    "        }\n",
    "\n",
    "        // CompletePerson(string name) {\n",
    "        //     CompletePerson()\n",
    "        //     this->name = name;\n",
    "        // }\n",
    "\n",
    "        // CompletePerson(string name, int age) {\n",
    "        //     CompletePerson()\n",
    "        //     this->name = name;\n",
    "        //     this->age = age;\n",
    "        // }\n",
    "        \n",
    "        CompletePerson(string name, int age, float height) {\n",
    "            CompletePerson()\n",
    "            this->name = name;\n",
    "            this->age = age;\n",
    "            this->height = height;\n",
    "        }\n",
    "};\n",
    "\n",
    "CompletePerson forrest;\n",
    "\n",
    "cout << \"=== Empty Constructor ===\" << endl;\n",
    "cout << \"Name: \" << forrest.name << endl;\n",
    "cout << \"Age: \" << forrest.age << endl;\n",
    "cout << \"Height: \" << forrest.height << \" meters\" << endl;\n",
    "\n",
    "CompletePerson wonderWoman {\"Wonder Woman\", 5000, 4.5212};\n",
    "\n",
    "cout << \"=== Parameterized Constructor ===\" << endl;\n",
    "cout << \"Name: \" << wonderWoman.name << endl;\n",
    "cout << \"Age: \" << wonderWoman.age << endl;\n",
    "cout << \"Height: \" << wonderWoman.height << \" meters\" << endl;"
   ]
  },
  {
   "attachments": {},
   "cell_type": "markdown",
   "metadata": {},
   "source": [
    "### Calling the constructor \n",
    "\n",
    "We can call the constructors in two manors with parentheses `()` or curly\n",
    "braces `{}`. The difference between using parentheses () and curly braces {}\n",
    "when creating an object of a struct or class depends on whether the type has a\n",
    "constructor that takes arguments. \n",
    "\n",
    "When using parentheses `()`, C++ will try to match the arguments with an existing\n",
    "constructor. For example, if you have a constructor that takes a `string`, an `int`,\n",
    "and a `float`, then you can create an object using:\n",
    "\n",
    "```cpp\n",
    "CompletePerson mary(\"Mary Poppins\", 32, 1.70);\n",
    "```\n",
    "\n",
    "This syntax is called \"direct initialization\". \n",
    "\n",
    "On the other hand, when using curly braces `{}`, C++ will try to create the\n",
    "object using an initializer list. If you have a constructor that takes an\n",
    "initializer list, then you can create an object using:\n",
    "\n",
    "```cpp\n",
    "CompletePerson mary {\"Mary Poppins\", 32, 1.70};\n",
    "```\n",
    "\n",
    "This syntax is called \"list initialization\". \n",
    "\n",
    "In general, list initialization is preferred because it can prevent certain\n",
    "types of errors that can occur with direct initialization, such as narrowing\n",
    "conversions. However, if the struct or class does not have a constructor that\n",
    "takes an initializer list, then you must use direct initialization. "
   ]
  },
  {
   "cell_type": "code",
   "execution_count": 7,
   "metadata": {
    "vscode": {
     "languageId": "cpp"
    }
   },
   "outputs": [
    {
     "name": "stdout",
     "output_type": "stream",
     "text": [
      "=== Direct Initialization ===\n",
      "Name: Mary Poppins\n",
      "Age: 32\n",
      "Height: 1.7 meters\n",
      "=== List Lnitialization ===\n",
      "Name: Mary Poppins\n",
      "Age: 32\n",
      "Height: 1.7 meters\n"
     ]
    }
   ],
   "source": [
    "CompletePerson mary1(\"Mary Poppins\", 32, 1.70);\n",
    "\n",
    "cout << \"=== Direct Initialization ===\" << endl;\n",
    "cout << \"Name: \" << mary1.name << endl;\n",
    "cout << \"Age: \" << mary1.age << endl;\n",
    "cout << \"Height: \" << mary1.height << \" meters\" << endl;\n",
    "\n",
    "CompletePerson mary2 {\"Mary Poppins\", 32, 1.70};\n",
    "\n",
    "cout << \"=== List Initialization ===\" << endl;\n",
    "cout << \"Name: \" << mary2.name << endl;\n",
    "cout << \"Age: \" << mary2.age << endl;\n",
    "cout << \"Height: \" << mary2.height << \" meters\" << endl;"
   ]
  }
 ],
 "metadata": {
  "kernelspec": {
   "display_name": "C++17",
   "language": "C++17",
   "name": "xcpp17"
  },
  "language_info": {
   "codemirror_mode": "text/x-c++src",
   "file_extension": ".cpp",
   "mimetype": "text/x-c++src",
   "name": "c++",
   "version": "17"
  },
  "orig_nbformat": 4
 },
 "nbformat": 4,
 "nbformat_minor": 2
}
