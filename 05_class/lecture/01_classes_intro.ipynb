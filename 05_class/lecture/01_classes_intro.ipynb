{
 "cells": [
  {
   "attachments": {},
   "cell_type": "markdown",
   "metadata": {},
   "source": [
    "# Classes\n",
    "\n",
    "In C++, a class is a blueprint or a template for creating objects that define\n",
    "its properties (attributes) and behaviors (methods or functions). It\n",
    "encapsulates data and functions together and allows the programmer to define\n",
    "custom data types. Objects created from a class can have their own unique values\n",
    "for the attributes and can perform the behaviors defined in the class. In short,\n",
    "a class is a user-defined data type that allows for abstraction and modular\n",
    "programming.\n",
    "\n",
    "**How are they different than structs?**\n",
    "\n",
    "In C++, a class and a struct are almost the same things, with the only two\n",
    "difference being we use the `class` instead of `struct` when we define them and\n",
    "the default access level of its members.  \n",
    "\n",
    "In a class, by default, all its members are private unless explicitly marked as\n",
    "public, protected or friend. On the other hand, in a struct, by default, all its\n",
    "members are public unless explicitly marked as private or protected. \n",
    "\n",
    "This means that the main difference between a class and a struct is in how the\n",
    "members are accessed outside the class/struct. In general, classes are used when\n",
    "we want to have more control over how the data is accessed and modified, while\n",
    "structs are used when we have a simple collection of related data that we want\n",
    "to manipulate together. \n",
    "\n",
    "Below I have created a class form of the `Person` struct created in the [Struct Notebook](05_class/00_structs.ipynb) :"
   ]
  },
  {
   "cell_type": "code",
   "execution_count": 1,
   "metadata": {
    "vscode": {
     "languageId": "cpp"
    }
   },
   "outputs": [
    {
     "name": "stdout",
     "output_type": "stream",
     "text": [
      "Name: Sponge Bob Square Pants\n",
      "Age: 33\n",
      "Height: 1.22 meters\n"
     ]
    }
   ],
   "source": [
    "#include <iostream>\n",
    "using namespace std;\n",
    "\n",
    "class Person {\n",
    "    string name;\n",
    "    int age;\n",
    "    float height;\n",
    "\n",
    "    public: \n",
    "      string getName(){\n",
    "        return name;\n",
    "      } \n",
    "\n",
    "      int getAge(){\n",
    "        return age;\n",
    "      }\n",
    "\n",
    "      float getHeight(){\n",
    "        return height;\n",
    "      }\n",
    "\n",
    "    Person(string name, int age, float height) {\n",
    "        this->name = name;\n",
    "        this->age = age;\n",
    "        this->height = height;\n",
    "    }\n",
    "};\n",
    "\n",
    "Person spongeBob {\"Sponge Bob Square Pants\", 33, 1.22};\n",
    "\n",
    "cout << \"Name: \" << spongeBob.getName() << endl;\n",
    "cout << \"Age: \" << spongeBob.getAge() << endl;\n",
    "cout << \"Height: \" << spongeBob.getHeight() << \" meters\" << endl;"
   ]
  },
  {
   "attachments": {},
   "cell_type": "markdown",
   "metadata": {},
   "source": [
    "Notice we need to create the getter methods so we are able access the members\n",
    "of the class because the members of the class are private by default."
   ]
  }
 ],
 "metadata": {
  "kernelspec": {
   "display_name": "C++17",
   "language": "C++17",
   "name": "xcpp17"
  },
  "language_info": {
   "codemirror_mode": "text/x-c++src",
   "file_extension": ".cpp",
   "mimetype": "text/x-c++src",
   "name": "c++",
   "version": "17"
  },
  "orig_nbformat": 4,
  "vscode": {
   "interpreter": {
    "hash": "e7370f93d1d0cde622a1f8e1c04877d8463912d04d973331ad4851f04de6915a"
   }
  }
 },
 "nbformat": 4,
 "nbformat_minor": 2
}
