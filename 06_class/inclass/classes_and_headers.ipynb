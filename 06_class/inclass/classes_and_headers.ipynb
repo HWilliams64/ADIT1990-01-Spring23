{
 "cells": [
  {
   "attachments": {},
   "cell_type": "markdown",
   "metadata": {},
   "source": [
    "# Classes and headers\n",
    "\n",
    "In this tutorial, we will learn how to create a simple C++ class to represent a\n",
    "person, and how to separate the class's definition (in a header file) from its\n",
    "implementation (in a separate source file). We will cover the basic syntax and\n",
    "concepts of object-oriented programming in C++, including class constructors,\n",
    "member functions, private and public access specifiers, and the separation of\n",
    "declaration and implementation of class member functions. By the end of this\n",
    "tutorial, you will have a solid understanding of how to create and implement a\n",
    "C++ class, and how to organize its code for better encapsulation and\n",
    "maintainability.\n",
    "\n",
    "Here's an example of how of a `Person class`"
   ]
  },
  {
   "cell_type": "code",
   "execution_count": null,
   "metadata": {
    "vscode": {
     "languageId": "cpp"
    }
   },
   "outputs": [],
   "source": [
    "#include <iostream>\n",
    "#include <string>\n",
    "\n",
    "class Person {\n",
    "private:\n",
    "    std::string name_;\n",
    "    int age_;\n",
    "\n",
    "    void celebrateBirthday() {\n",
    "        age_++;\n",
    "        std::cout << \"Happy Birthday, \" << name_ << \"! You are now \" << age_ << \" years old.\" << std::endl;\n",
    "    }\n",
    "\n",
    "public:\n",
    "    Person(std::string name, int age) {\n",
    "        name_ = name;\n",
    "        age_ = age;\n",
    "    }\n",
    "\n",
    "    std::string getName() {\n",
    "        return name_;\n",
    "    }\n",
    "\n",
    "    void setName(std::string name) {\n",
    "        name_ = name;\n",
    "    }\n",
    "\n",
    "    int getAge() {\n",
    "        return age_;\n",
    "    }\n",
    "\n",
    "    void setAge(int age) {\n",
    "        age_ = age;\n",
    "    }\n",
    "\n",
    "    void haveBirthday() {\n",
    "        celebrateBirthday();\n",
    "    }\n",
    "};\n",
    "\n"
   ]
  },
  {
   "attachments": {},
   "cell_type": "markdown",
   "metadata": {},
   "source": [
    "# Referencing it in another file?\n",
    "\n",
    "If we wanted to reference it in another file we'd need to use a header file. We\n",
    "cannot do the following:\n",
    "\n",
    "```cpp\n",
    "// Person.h\n",
    "\n",
    "#ifndef PERSON_H\n",
    "#define PERSON_H\n",
    "\n",
    "#include <string>\n",
    "\n",
    "class Person;\n",
    "\n",
    "#endif // PERSON_H\n",
    "```\n",
    "\n",
    "We cannot do this because this does not tell the compiler all the capabilities\n",
    "of the class. In other word's it's missing the definitions of the class's\n",
    "functions. Thus we have two options:\n",
    "\n",
    "1. Put the entire class and it's implementation into the header file.\n",
    "   \n",
    "2. Define the just the class and it's attributes and implement the class's\n",
    "   methods in another file."
   ]
  },
  {
   "attachments": {},
   "cell_type": "markdown",
   "metadata": {},
   "source": [
    "# Defining a class in a headers file that\n",
    "\n",
    "Here's an example of how to define the class's functions in a header file:\n"
   ]
  },
  {
   "cell_type": "code",
   "execution_count": null,
   "metadata": {
    "vscode": {
     "languageId": "cpp"
    }
   },
   "outputs": [],
   "source": [
    "// Person.h\n",
    "\n",
    "#ifndef PERSON_H\n",
    "#define PERSON_H\n",
    "\n",
    "#include <string>\n",
    "\n",
    "class Person {\n",
    "public:\n",
    "    Person(const std::string& name, int age);\n",
    "    std::string getName() const;\n",
    "    int getAge() const;\n",
    "    void setName(const std::string& name);\n",
    "    void setAge(int age);\n",
    "private:\n",
    "    std::string name_;\n",
    "    int age_;\n",
    "    void celebrateBirthday();\n",
    "};\n",
    "\n",
    "#endif // PERSON_H"
   ]
  },
  {
   "attachments": {},
   "cell_type": "markdown",
   "metadata": {},
   "source": [
    "In this code, we have created a `Person` class with a header file called\n",
    "\"Person.h\" and an implementation file called \"Person.cpp\". The `Person` class has\n",
    "a constructor that takes the person's name and age as parameters, as well as\n",
    "getter and setter functions for the person's name and age. \n",
    "\n",
    "In addition, we have added a private method called `celebrateBirthday()` to the\n",
    "Person class. This method is only accessible from within the class and cannot be\n",
    "called from outside of the class.\n",
    "\n",
    "The private members of the `Person` class are the person's name and age stored as\n",
    "`std::string` and `int` data types, respectively."
   ]
  },
  {
   "attachments": {},
   "cell_type": "markdown",
   "metadata": {},
   "source": [
    "# Implementing the class\n",
    "\n",
    "Now in the `Person.cpp` file we can implement the class's methods by doing the\n",
    "following:"
   ]
  },
  {
   "cell_type": "code",
   "execution_count": null,
   "metadata": {
    "vscode": {
     "languageId": "cpp"
    }
   },
   "outputs": [],
   "source": [
    "// Person.cpp\n",
    "\n",
    "#include \"Person.h\"\n",
    "\n",
    "Person::Person(const std::string& name, int age) : name_(name), age_(age) {}\n",
    "\n",
    "std::string Person::getName() const {\n",
    "    return name_;\n",
    "}\n",
    "\n",
    "int Person::getAge() const {\n",
    "    return age_;\n",
    "}\n",
    "\n",
    "void Person::setName(const std::string& name) {\n",
    "    name_ = name;\n",
    "}\n",
    "\n",
    "void Person::setAge(int age) {\n",
    "    age_ = age;\n",
    "}\n",
    "\n",
    "void Person::celebrateBirthday() {\n",
    "    ++age_;\n",
    "    // Output some celebration message to the console\n",
    "    std::cout << \"Happy Birthday, \" << name_ << \"! You are now \" << age_ << \" years old.\\n\";\n",
    "}\n"
   ]
  },
  {
   "attachments": {},
   "cell_type": "markdown",
   "metadata": {},
   "source": [
    "The implementation file, \"Person.cpp\", implements the constructor and member\n",
    "functions of the Person class. The constructor initializes the name_ and age_\n",
    "member variables with the name and age passed to it. The `getName()` and `getAge()`\n",
    "functions return the person's name and age, respectively. The `setName()` and\n",
    "`setAge()` functions allow changing the person's name and age, respectively.\n",
    "Finally, the `celebrateBirthday()` method increments the `age_` member variable by 1\n",
    "and outputs a message to the console wishing the person a happy birthday and\n",
    "stating their new age. "
   ]
  }
 ],
 "metadata": {
  "kernelspec": {
   "display_name": "C++17",
   "language": "C++17",
   "name": "xcpp17"
  },
  "language_info": {
   "name": "C++17"
  },
  "orig_nbformat": 4
 },
 "nbformat": 4,
 "nbformat_minor": 2
}
